{
 "cells": [
  {
   "cell_type": "code",
   "execution_count": 1,
   "metadata": {},
   "outputs": [
    {
     "name": "stdout",
     "output_type": "stream",
     "text": [
      "8627\n",
      "8627\n"
     ]
    }
   ],
   "source": [
    "from utils.preprocess import JSONLoader\n",
    "fields = ['business_id','categories','city']\n",
    "# fields = None\n",
    "city = ['Toronto']\n",
    "categories_all =['Restaurants', 'Food', 'Sandwiches', 'Fast Food', 'American (Traditional)', 'Pizza',\n",
    "                 'Italian', 'Burgers', 'Mexican','Breakfast & Brunch', 'American (New)', 'Chinese', 'Specialty Food', 'Bakeries', 'Desserts',\n",
    "                 'Japanese', 'Ice Cream & Frozen Yogurt', 'Chicken Wings', 'Seafood', 'Salad', 'Sushi Bars',\n",
    "                 'Asian Fusion', 'Thai', 'Indian']\n",
    "\n",
    "business = 'business.json'\n",
    "#data_dir = 'data/dataset'\n",
    "data_dir = 'C:/Users/USer/social data mining/Project/dataset/'\n",
    "\n",
    "jl = JSONLoader(business, data_dir, fields = fields)\n",
    "jl.set_condition(city=city, categories=categories_all)\n",
    "f_b, all_restaurants = jl.sample(1000000)\n",
    "print(len(all_restaurants))\n",
    "all_rest_id = set([restaurant[0] for restaurant in all_restaurants])\n",
    "print(len(all_rest_id))"
   ]
  },
  {
   "cell_type": "code",
   "execution_count": 2,
   "metadata": {},
   "outputs": [
    {
     "data": {
      "text/plain": [
       "69192"
      ]
     },
     "execution_count": 2,
     "metadata": {},
     "output_type": "execute_result"
    }
   ],
   "source": [
    "# Load the reviews\n",
    "review = 'review.json'\n",
    "#data_dir = 'data/dataset'\n",
    "data_dir = 'C:/Users/USer/social data mining/Project/dataset/'\n",
    "\n",
    "fields = ['user_id','business_id','stars','text' ]\n",
    "jl = JSONLoader(review, data_dir, fields = fields)\n",
    "jl.set_condition(business_id = all_rest_id)\n",
    "\n",
    "f_, all_reviews = jl.sample(1000000)\n",
    "len(all_reviews)"
   ]
  },
  {
   "cell_type": "code",
   "execution_count": 3,
   "metadata": {
    "collapsed": true
   },
   "outputs": [],
   "source": [
    "categories =['Seafood', 'Burgers', 'Italian', 'Japanese', 'Chinese']\n",
    "\n",
    "rest_id = {}\n",
    "\n",
    "for category in categories:\n",
    "    jl = JSONLoader(business, data_dir, fields = fields)\n",
    "    jl.set_condition(city=city, categories=[category])\n",
    "    f_b, categorized_restaurants = jl.sample(1000000)\n",
    "#     print(len(categorized_restaurants))\n",
    "    rest_id[category] = set([restaurant[0] for restaurant in categorized_restaurants])\n",
    "#     print(len(rest_id[category]))"
   ]
  },
  {
   "cell_type": "code",
   "execution_count": 5,
   "metadata": {},
   "outputs": [
    {
     "name": "stdout",
     "output_type": "stream",
     "text": [
      "3278\n",
      "3005\n",
      "4874\n",
      "5404\n",
      "4164\n"
     ]
    }
   ],
   "source": [
    "# Load the reviews\n",
    "categorized_reviews = {}\n",
    "review = 'review.json'\n",
    "#data_dir = 'data/dataset'\n",
    "data_dir = 'C:/Users/USer/social data mining/Project/dataset/'\n",
    "\n",
    "fields = ['user_id','business_id','stars','text']\n",
    "\n",
    "for category in categories:\n",
    "    jl = JSONLoader(review, data_dir, fields = fields)\n",
    "    jl.set_condition(business_id = rest_id[category])\n",
    "    f_, categorized_reviews[category] = jl.sample(1000000)\n",
    "    print(len(categorized_reviews[category]))"
   ]
  },
  {
   "cell_type": "code",
   "execution_count": 174,
   "metadata": {
    "collapsed": true
   },
   "outputs": [],
   "source": [
    "# To raise the accuracy, we have to consider plural.\n",
    "\n",
    "def toPlural(word):\n",
    "    if word.endswith('y'):\n",
    "        return word[:-1] + 'ies'\n",
    "    elif word[-1] in 'sx' or word[-2:] in ['sh', 'ch']:\n",
    "        return word + 'es'\n",
    "    elif word.endswith('an'):\n",
    "        return word[:-2] + 'en'\n",
    "    else:\n",
    "        return word + 's'"
   ]
  },
  {
   "cell_type": "code",
   "execution_count": 7,
   "metadata": {
    "collapsed": true
   },
   "outputs": [],
   "source": [
    "import re, string\n",
    "\n",
    "def eliminatePunctuation(text):\n",
    "    out = re.sub('[%s]' % re.escape(string.punctuation), '', text)\n",
    "    return out"
   ]
  },
  {
   "cell_type": "code",
   "execution_count": 9,
   "metadata": {
    "collapsed": true
   },
   "outputs": [],
   "source": [
    "# For particular review texts\n",
    "from nltk.corpus import stopwords\n",
    "\n",
    "stopwords.words('english')\n",
    "stopwords = stopwords.words('english')\n",
    "\n",
    "categorized_review_texts = {}\n",
    "categorized_texts_processed = {}\n",
    "for category in categories:\n",
    "    categorized_review_texts[category] = [review[3] for review in categorized_reviews[category]]\n",
    "    categorized_texts_processed[category] = [[word for word in eliminatePunctuation(text_review).lower().split() if word not in stopwords] for text_review in categorized_review_texts[category]]"
   ]
  },
  {
   "cell_type": "code",
   "execution_count": 10,
   "metadata": {
    "collapsed": true
   },
   "outputs": [],
   "source": [
    "concatenated_categorized_texts_processed = {}\n",
    "for category in categories:\n",
    "    concatenated_categorized_texts_processed[category] = [sum(categorized_texts_processed[category], [])]"
   ]
  },
  {
   "cell_type": "code",
   "execution_count": 11,
   "metadata": {
    "collapsed": true
   },
   "outputs": [],
   "source": [
    "# For all review texts\n",
    "from nltk.corpus import stopwords\n",
    "\n",
    "all_text_reviews = [review[3] for review in all_reviews]\n",
    "\n",
    "stopwords.words('english')\n",
    "stopwords = stopwords.words('english')\n",
    "\n",
    "texts = [[word for word in eliminatePunctuation(text_review).lower().split() if word not in stopwords] for text_review in all_text_reviews]"
   ]
  },
  {
   "cell_type": "code",
   "execution_count": 15,
   "metadata": {
    "collapsed": true
   },
   "outputs": [],
   "source": [
    "from gensim import corpora\n",
    "\n",
    "all_dictionary = corpora.Dictionary(texts)\n",
    "corpus = [all_dictionary.doc2bow(text) for text in texts]"
   ]
  },
  {
   "cell_type": "code",
   "execution_count": 16,
   "metadata": {},
   "outputs": [
    {
     "name": "stdout",
     "output_type": "stream",
     "text": [
      "would\n",
      "7\n"
     ]
    }
   ],
   "source": [
    "'''\n",
    "testing, please just skip this part.\n",
    "'''\n",
    "print(all_dictionary[7])  # just for test\n",
    "print(all_dictionary.token2id['would']) # just for test"
   ]
  },
  {
   "cell_type": "code",
   "execution_count": 17,
   "metadata": {
    "collapsed": true
   },
   "outputs": [],
   "source": [
    "import gensim.models as gm\n",
    "tfidf = gm.TfidfModel(corpus)"
   ]
  },
  {
   "cell_type": "code",
   "execution_count": 19,
   "metadata": {},
   "outputs": [
    {
     "name": "stdout",
     "output_type": "stream",
     "text": [
      "# of review text under  Seafood =  3278\n",
      "# of review text under  Burgers =  3005\n",
      "# of review text under  Italian =  4874\n",
      "# of review text under  Japanese =  5404\n",
      "# of review text under  Chinese =  4164\n"
     ]
    }
   ],
   "source": [
    "# TF-IDF per review text per category\n",
    "\n",
    "categorized_corpus = {}\n",
    "categorized_tfidf = {}\n",
    "\n",
    "for category in categories:\n",
    "    categorized_corpus[category] = [all_dictionary.doc2bow(text) for text in categorized_texts_processed[category]]\n",
    "    categorized_tfidf[category] = tfidf[categorized_corpus[category]]\n",
    "    print(\"# of review text under \", category, \"= \", len(categorized_tfidf[category]))"
   ]
  },
  {
   "cell_type": "code",
   "execution_count": 20,
   "metadata": {
    "collapsed": true
   },
   "outputs": [],
   "source": [
    "# TF-IDF per category by being concatenated\n",
    "\n",
    "concatenated_categorized_corpus = {}\n",
    "concatenated_categorized_tfidf = {}\n",
    "\n",
    "for category in categories:\n",
    "    concatenated_categorized_corpus[category] = [all_dictionary.doc2bow(text) for text in concatenated_categorized_texts_processed[category]]\n",
    "    concatenated_categorized_tfidf[category] = tfidf[concatenated_categorized_corpus[category]]"
   ]
  },
  {
   "cell_type": "code",
   "execution_count": 21,
   "metadata": {},
   "outputs": [
    {
     "name": "stdout",
     "output_type": "stream",
     "text": [
      "Seafood ['lobster', 'oysters', 'seafood', 'crab', 'us', 'fish', 'restaurant', 'good', 'service', 'food', 'came', 'fried', 'table', 'great', 'would', 'oyster', 'ordered', 'one', 'time', 'menu']\n",
      "Burgers ['burger', 'burgers', 'fries', 'chicken', 'poutine', 'patty', 'bacon', 'good', 'like', 'place', 'cheese', 'order', 'toppings', 'rings', 'really', 'bun', 'onion', 'get', 'time', 'one']\n",
      "Italian ['pizza', 'pasta', 'italian', 'restaurant', 'us', 'good', 'food', 'great', 'service', 'sauce', 'would', 'wine', 'really', 'nice', 'like', 'one', 'ordered', 'place', 'salad', 'bread']\n",
      "Japanese ['sushi', 'ramen', 'japanese', 'sashimi', 'roll', 'rolls', 'salmon', 'restaurant', 'good', 'place', 'food', 'lunch', 'service', 'tempura', 'really', 'like', 'pork', 'noodles', 'soup', 'rice']\n",
      "Chinese ['chinese', 'sum', 'dim', 'lobster', 'fried', 'noodles', 'dumplings', 'rice', 'soup', 'noodle', 'pork', 'food', 'dishes', 'restaurant', 'chicken', 'dish', 'good', 'place', 'order', 'like']\n"
     ]
    }
   ],
   "source": [
    "# By category, display the words according to tf-idf\n",
    "\n",
    "import operator\n",
    "\n",
    "tfidf_under_category = {}\n",
    "words_sorted_by_tfidf = {}\n",
    "just = {}\n",
    "for category in categories:\n",
    "    intermediate = {}\n",
    "    for entry in concatenated_categorized_tfidf[category][0]:\n",
    "        intermediate[all_dictionary[entry[0]]] = entry[1]\n",
    "    words_sorted_by_tfidf[category] = [ word for (word, value) in sorted(intermediate.items(), key=operator.itemgetter(1), reverse=True)]\n",
    "    print(category, words_sorted_by_tfidf[category][:20])"
   ]
  }
 ],
 "metadata": {
  "kernelspec": {
   "display_name": "Python 3",
   "language": "python",
   "name": "python3"
  },
  "language_info": {
   "codemirror_mode": {
    "name": "ipython",
    "version": 3
   },
   "file_extension": ".py",
   "mimetype": "text/x-python",
   "name": "python",
   "nbconvert_exporter": "python",
   "pygments_lexer": "ipython3",
   "version": "3.6.3"
  }
 },
 "nbformat": 4,
 "nbformat_minor": 2
}
