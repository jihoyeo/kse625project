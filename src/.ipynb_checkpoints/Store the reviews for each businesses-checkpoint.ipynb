{
 "cells": [
  {
   "cell_type": "code",
   "execution_count": null,
   "metadata": {
    "collapsed": true
   },
   "outputs": [],
   "source": [
    "import pickle\n",
    "with open('./data/recs', 'rb') as f:\n",
    "    recs = pickle.load(f)\n",
    "\n",
    "from itertools import chain\n",
    "recs_bid = set(chain(*[list(recs[cat][0].keys()) for cat in recs]))\n",
    "top5_uid = set(chain(*[recs[cat][-1] for cat in recs]))"
   ]
  },
  {
   "cell_type": "code",
   "execution_count": null,
   "metadata": {
    "collapsed": true
   },
   "outputs": [],
   "source": [
    "from utils.preprocess import JSONLoader\n",
    "jl = JSONLoader('review.json', 'data/raw', fields = ['user_id', 'business_id','text'])\n",
    "jl.set_condition(stars = [5], business_id = recs_bid, user_id = r.user.popular_friends)\n",
    "_, rv = jl.sample(10000000)\n",
    "\n",
    "from collections import defaultdict\n",
    "b_reviews = defaultdict(lambda: [])\n",
    "for line in rv:\n",
    "    uid = line[0]\n",
    "    bid = line[1]\n",
    "    t = line[2]\n",
    "    b_reviews[bid].append((uid, t))\n",
    "for bid in b_reviews:\n",
    "    b_reviews[bid] = sorted(b_reviews[bid], key = lambda x: G.degree(x[0]))\n",
    "\n",
    "b_reviews = dict(b_reviews)"
   ]
  },
  {
   "cell_type": "code",
   "execution_count": null,
   "metadata": {
    "collapsed": true
   },
   "outputs": [],
   "source": [
    "with open('./data/bid2name', 'rb') as f:\n",
    "    bid2name = pickle.load(f)\n",
    "\n",
    "b_reviews_textonly = {bid2name[bid]: '\\n\\n'.join([t for uid, t in sorted_rvs]) for bid, sorted_rvs in b_reviews.items()}\n",
    "\n",
    "for bname, text_rv in b_reviews_textonly.items():\n",
    "    with open('./data/business_reviews_%s.txt' % bname, 'w') as f:\n",
    "        f.write(text_rv)"
   ]
  }
 ],
 "metadata": {
  "kernelspec": {
   "display_name": "Python 3",
   "language": "python",
   "name": "python3"
  },
  "language_info": {
   "codemirror_mode": {
    "name": "ipython",
    "version": 3
   },
   "file_extension": ".py",
   "mimetype": "text/x-python",
   "name": "python",
   "nbconvert_exporter": "python",
   "pygments_lexer": "ipython3",
   "version": "3.6.3"
  }
 },
 "nbformat": 4,
 "nbformat_minor": 2
}
