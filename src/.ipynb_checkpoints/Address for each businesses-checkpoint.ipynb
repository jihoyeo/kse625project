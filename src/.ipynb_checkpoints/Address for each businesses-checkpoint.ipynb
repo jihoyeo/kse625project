{
 "cells": [
  {
   "cell_type": "code",
   "execution_count": 1,
   "metadata": {
    "collapsed": true
   },
   "outputs": [],
   "source": [
    "import pickle\n",
    "with open('./data/recs', 'rb') as f:\n",
    "    recs = pickle.load(f)\n",
    "\n",
    "with open('./data/bid2name', 'rb') as f:\n",
    "    bid2name = pickle.load(f)"
   ]
  },
  {
   "cell_type": "code",
   "execution_count": 3,
   "metadata": {},
   "outputs": [],
   "source": [
    "from utils.preprocess import JSONLoader\n",
    "jl = JSONLoader('business.json', 'data/raw', fields=['business_id','address'])\n",
    "\n",
    "jl.set_condition(business_id = list(recs['Seafood'][0].keys()), categories = ['Seafood'])\n",
    "_, Seafood = jl.sample(10000000)\n",
    "\n",
    "jl.set_condition(business_id = list(recs['Japanese'][0].keys()), categories = ['Japanese'])\n",
    "_, Japanese = jl.sample(10000000)"
   ]
  },
  {
   "cell_type": "code",
   "execution_count": 5,
   "metadata": {},
   "outputs": [],
   "source": [
    "Seafood = [[bid2name[bid], address] for bid, address in Seafood]\n",
    "Japanese = [[bid2name[bid], address] for bid, address in Japanese]"
   ]
  },
  {
   "cell_type": "code",
   "execution_count": 6,
   "metadata": {},
   "outputs": [
    {
     "data": {
      "text/plain": [
       "[['North Poke', '179 Baldwin Street'],\n",
       " ['Olio', '801 Dixon Road'],\n",
       " [\"Ruth's Chris Steak House\", '145 Richmond Street W'],\n",
       " [\"Rodney's Oyster House\", '469 King Street W'],\n",
       " ['Bright Pearl Restaurant', '346 Spadina Avenue'],\n",
       " ['Oyster Boy', '872 Queen Street W'],\n",
       " ['Momofuku Daishō', '190 University Avenue Toronto, 3rd Floor'],\n",
       " ['Fishman Lobster Clubhouse Restaurant', '680 Silver Star Boulevard'],\n",
       " ['Fabbrica', '49 Karl Fraser Road'],\n",
       " ['Hopgoods Foodliner', '325 Roncesvalles Avenue'],\n",
       " ['Nami Restaurant', '55 Adelaide Street E'],\n",
       " ['Estiatorio VOLOS', '133 Richmond St W'],\n",
       " ['The Chase Fish & Oyster', '10 Temperance Street'],\n",
       " ['Miku Toronto', '10 Bay Street, Unit 105'],\n",
       " ['The Keg Steakhouse + Bar - York Street', '165 York Street'],\n",
       " ['Sang-Ho Seafood Restaurant', '536 Dundas St W']]"
      ]
     },
     "execution_count": 6,
     "metadata": {},
     "output_type": "execute_result"
    }
   ],
   "source": [
    "Seafood"
   ]
  },
  {
   "cell_type": "code",
   "execution_count": 8,
   "metadata": {},
   "outputs": [
    {
     "data": {
      "text/plain": [
       "[['Take Sushi', '22 Front Street W'],\n",
       " ['Tokyo Kitchen', '20 Charles Street E'],\n",
       " ['KINKA IZAKAYA ORIGINAL', '398 Church St'],\n",
       " ['Kawa Sushi', '451 Church Street'],\n",
       " ['Izakaya Tsuki', '5182 Yonge Street'],\n",
       " ['Kanji Sushi', '1346 Queen Street W'],\n",
       " ['Hanmoto', '2 Lakeview Avenue'],\n",
       " ['Aji Sai Japanese Restaurant', '467 Queen Street W'],\n",
       " ['Sansotei', '650 Yonge Street'],\n",
       " ['KINKA IZAKAYA BLOOR', '559 Bloor St W'],\n",
       " ['Momofuku Daishō', '190 University Avenue Toronto, 3rd Floor'],\n",
       " ['Millie Creperie', '161 Baldwin Street'],\n",
       " ['Ka Chi', '8 Saint Andrews Street'],\n",
       " ['Sushi Making For the Soul', '1 Baldwin Street'],\n",
       " ['Yuzu No Hana', '236 Adelaide Street W'],\n",
       " ['Sansotei Ramen', '179 Dundas Street W'],\n",
       " ['Katana on Bay', '333 Bay Street'],\n",
       " ['Shinobu Sushi', '3403 Yonge Street'],\n",
       " ['Nami Restaurant', '55 Adelaide Street E'],\n",
       " ['Zakkushi', '193 Carlton Street'],\n",
       " ['Miku Toronto', '10 Bay Street, Unit 105'],\n",
       " ['Kyoto House Japanese Restaurant', '143 Dundas St W'],\n",
       " ['Momofuku Noodle Bar', '190 University Avenue, Ground Floor'],\n",
       " ['Fin Izakaya', '55 Eglinton Avenue E'],\n",
       " ['Toshi Sushi', '565 King Street W'],\n",
       " ['JaBistro', '222 Richmond Street W'],\n",
       " ['Sushi Shop', '65 Front St W'],\n",
       " ['District', '806 Queen Street E'],\n",
       " ['Momofuku Shoto', '190 University Avenue, 3rd Floor'],\n",
       " ['Sushi Inn', '120 Cumberland Street'],\n",
       " ['Japas', '692 Bloor Street W'],\n",
       " [\"Kevin's Taiyaki\", '675 Bloor Street'],\n",
       " ['Kaiju', '384 Yonge Street, Unit 51'],\n",
       " ['Ramen Isshin', '421 College Street']]"
      ]
     },
     "execution_count": 8,
     "metadata": {},
     "output_type": "execute_result"
    }
   ],
   "source": [
    "Japanese"
   ]
  }
 ],
 "metadata": {
  "kernelspec": {
   "display_name": "Python 3",
   "language": "python",
   "name": "python3"
  },
  "language_info": {
   "codemirror_mode": {
    "name": "ipython",
    "version": 3
   },
   "file_extension": ".py",
   "mimetype": "text/x-python",
   "name": "python",
   "nbconvert_exporter": "python",
   "pygments_lexer": "ipython3",
   "version": "3.6.3"
  }
 },
 "nbformat": 4,
 "nbformat_minor": 2
}
