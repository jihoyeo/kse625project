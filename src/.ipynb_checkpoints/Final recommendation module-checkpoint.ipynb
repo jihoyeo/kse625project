{
 "cells": [
  {
   "cell_type": "markdown",
   "metadata": {},
   "source": [
    "Build the Friendship Graph, calculating the Influences"
   ]
  },
  {
   "cell_type": "code",
   "execution_count": 5,
   "metadata": {},
   "outputs": [
    {
     "name": "stdout",
     "output_type": "stream",
     "text": [
      "[0] N(nodes): 0\n",
      "[0] N(edges): 0\n",
      "\n",
      "[10000] N(nodes): 572098\n",
      "[10000] N(edges): 1016194\n",
      "[10000] N(nodes)/N(edges): 0.5630\n",
      "\n",
      "[20000] N(nodes): 850060\n",
      "[20000] N(edges): 1682199\n",
      "[20000] N(nodes)/N(edges): 0.5053\n",
      "\n",
      "[30000] N(nodes): 1094474\n",
      "[30000] N(edges): 2318126\n",
      "[30000] N(nodes)/N(edges): 0.4721\n",
      "\n",
      "[40000] N(nodes): 1298589\n",
      "[40000] N(edges): 2885366\n",
      "[40000] N(nodes)/N(edges): 0.4501\n",
      "\n",
      "[50000] N(nodes): 1551141\n",
      "[50000] N(edges): 3527089\n",
      "[50000] N(nodes)/N(edges): 0.4398\n",
      "\n",
      "[60000] N(nodes): 1773430\n",
      "[60000] N(edges): 4131718\n",
      "[60000] N(nodes)/N(edges): 0.4292\n",
      "\n",
      "[70000] N(nodes): 1875605\n",
      "[70000] N(edges): 4405655\n",
      "[70000] N(nodes)/N(edges): 0.4257\n",
      "\n",
      "[80000] N(nodes): 2065953\n",
      "[80000] N(edges): 4963206\n",
      "[80000] N(nodes)/N(edges): 0.4163\n",
      "\n",
      "[90000] N(nodes): 2280149\n",
      "[90000] N(edges): 5642561\n",
      "[90000] N(nodes)/N(edges): 0.4041\n",
      "\n",
      "[100000] N(nodes): 2455635\n",
      "[100000] N(edges): 6230531\n",
      "[100000] N(nodes)/N(edges): 0.3941\n",
      "\n",
      "[110000] N(nodes): 2582623\n",
      "[110000] N(edges): 6638750\n",
      "[110000] N(nodes)/N(edges): 0.3890\n",
      "\n",
      "[120000] N(nodes): 2745604\n",
      "[120000] N(edges): 7194432\n",
      "[120000] N(nodes)/N(edges): 0.3816\n",
      "\n",
      "Calculating Influence...\n"
     ]
    }
   ],
   "source": [
    "# from utils.friendship import GraphBuilder\n",
    "# import pickle\n",
    "# import os\n",
    "# from os.path import join\n",
    "\n",
    "# ### Test\n",
    "# user = 'user.json'\n",
    "# data_dir = 'data/raw'\n",
    "\n",
    "# # Sample 10 entries from the json file\n",
    "# fields = ['user_id','friends']\n",
    "# n_samples = 120000\n",
    "# G = GraphBuilder(user, data_dir).build_graph(n_samples, calculate_influence = True)\n",
    "\n",
    "# home = os.path.expanduser('~')\n",
    "# pkl = join(home, 'data/pkl/friendship.pkl')\n",
    "# with open(pkl, 'wb') as f:\n",
    "#     pickle.dump(G, f)"
   ]
  },
  {
   "cell_type": "markdown",
   "metadata": {},
   "source": [
    "Map the business ids to names, for plotting purpose"
   ]
  },
  {
   "cell_type": "code",
   "execution_count": null,
   "metadata": {},
   "outputs": [],
   "source": [
    "import pickle\n",
    "\n",
    "with open('./data/business_doc', 'rb') as f:\n",
    "    doc_business = pickle.load(f)\n",
    "\n",
    "from utils.preprocess import JSONLoader\n",
    "city = ['Toronto']\n",
    "categories = ['Burgers','Seafood','Italian','Chinese','Japanese']\n",
    "business = 'business.json'\n",
    "fields = ['business_id', 'name']\n",
    "jl = JSONLoader(business, 'data/raw', fields = fields)\n",
    "jl.set_condition(city=city, categories=categories, business_id = doc_business.keys())\n",
    "f, b = jl.sample(10000000)\n",
    "bid2name = dict(b)\n",
    "\n",
    "import pickle\n",
    "with open('./data/bid2name', 'wb') as f:\n",
    "    pickle.dump(bid2name, f)"
   ]
  },
  {
   "cell_type": "markdown",
   "metadata": {},
   "source": [
    "Load the user influence information"
   ]
  },
  {
   "cell_type": "code",
   "execution_count": null,
   "metadata": {
    "collapsed": true
   },
   "outputs": [],
   "source": [
    "import pickle\n",
    "import os\n",
    "from os.path import join\n",
    "\n",
    "home = os.path.expanduser('~')\n",
    "pkl = join(home, 'data/pkl/friendship.pkl')\n",
    "with open(pkl, 'rb') as f:\n",
    "    G = pickle.load(f)"
   ]
  },
  {
   "cell_type": "markdown",
   "metadata": {},
   "source": [
    "Make recommendations"
   ]
  },
  {
   "cell_type": "code",
   "execution_count": null,
   "metadata": {},
   "outputs": [],
   "source": [
    "from utils.recommender import Recommender\n",
    "\n",
    "user_id = list(G.nodes())[0]\n",
    "user_xy = (43.6744092, -79.4580342)\n",
    "data_raw = 'data/raw'\n",
    "data_pkl = 'data/pkl'\n",
    "r = Recommender(data_raw, data_pkl, user_id, user_xy, G)"
   ]
  },
  {
   "cell_type": "code",
   "execution_count": null,
   "metadata": {},
   "outputs": [],
   "source": [
    "cat = 'Seafood'\n",
    "cat, ps, att, loc = r.recommend(cat)"
   ]
  },
  {
   "cell_type": "markdown",
   "metadata": {},
   "source": [
    "Plot"
   ]
  },
  {
   "cell_type": "code",
   "execution_count": null,
   "metadata": {},
   "outputs": [],
   "source": [
    "from utils.viz import scatterplot\n",
    "\n",
    "scatterplot(cat, ps, att, loc)"
   ]
  }
 ],
 "metadata": {
  "kernelspec": {
   "display_name": "Python 3",
   "language": "python",
   "name": "python3"
  },
  "language_info": {
   "codemirror_mode": {
    "name": "ipython",
    "version": 3
   },
   "file_extension": ".py",
   "mimetype": "text/x-python",
   "name": "python",
   "nbconvert_exporter": "python",
   "pygments_lexer": "ipython3",
   "version": "3.6.3"
  }
 },
 "nbformat": 4,
 "nbformat_minor": 2
}
